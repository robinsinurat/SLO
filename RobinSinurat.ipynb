{
  "nbformat": 4,
  "nbformat_minor": 0,
  "metadata": {
    "colab": {
      "name": "RobinSinurat.ipynb",
      "provenance": [],
      "collapsed_sections": [],
      "authorship_tag": "ABX9TyOJKcshDr2b7zX78zKv7PkG",
      "include_colab_link": true
    },
    "kernelspec": {
      "name": "python3",
      "display_name": "Python 3"
    },
    "language_info": {
      "name": "python"
    }
  },
  "cells": [
    {
      "cell_type": "markdown",
      "metadata": {
        "id": "view-in-github",
        "colab_type": "text"
      },
      "source": [
        "<a href=\"https://colab.research.google.com/github/robinsinurat/SLO/blob/main/RobinSinurat.ipynb\" target=\"_parent\"><img src=\"https://colab.research.google.com/assets/colab-badge.svg\" alt=\"Open In Colab\"/></a>"
      ]
    },
    {
      "cell_type": "code",
      "metadata": {
        "colab": {
          "base_uri": "https://localhost:8080/"
        },
        "id": "4LWHxcjqVAXT",
        "outputId": "9c4fdeff-135d-4312-de69-d9de815c66d6"
      },
      "source": [
        "from google.colab import drive\n",
        "drive.mount('/content/drive')"
      ],
      "execution_count": 1,
      "outputs": [
        {
          "output_type": "stream",
          "text": [
            "Mounted at /content/drive\n"
          ],
          "name": "stdout"
        }
      ]
    },
    {
      "cell_type": "code",
      "metadata": {
        "colab": {
          "base_uri": "https://localhost:8080/"
        },
        "id": "_wNJ28U0WOa8",
        "outputId": "a3179621-0431-4b83-8abe-5539d40fcf78"
      },
      "source": [
        "cd /content/drive/My Drive/Colab Notebooks"
      ],
      "execution_count": 3,
      "outputs": [
        {
          "output_type": "stream",
          "text": [
            "/content/drive/My Drive/Colab Notebooks\n"
          ],
          "name": "stdout"
        }
      ]
    },
    {
      "cell_type": "code",
      "metadata": {
        "id": "a_FjMPP9WZ3A"
      },
      "source": [
        "# import the necessary packages\n",
        "from keras.models import Sequential\n",
        "from keras.layers.convolutional import Conv2D\n",
        "from keras.layers.convolutional import MaxPooling2D\n",
        "from keras.layers.core import Activation\n",
        "from keras.layers.core import Flatten\n",
        "from keras.layers.core import Dense\n",
        "from keras.optimizers import Adam\n",
        "from sklearn.preprocessing import LabelBinarizer\n",
        "from sklearn.model_selection import train_test_split\n",
        "from sklearn.metrics import classification_report\n",
        "from PIL import Image\n",
        "from imutils import paths\n",
        "import numpy as np\n",
        "import os"
      ],
      "execution_count": 4,
      "outputs": []
    },
    {
      "cell_type": "code",
      "metadata": {
        "colab": {
          "base_uri": "https://localhost:8080/"
        },
        "id": "h6XJd7E7WiUN",
        "outputId": "acb1ed53-20e1-439c-888e-094bbd6e7936"
      },
      "source": [
        "# grab all image paths in the input dataset directory, then initialize\n",
        "# our list of images and corresponding class labels\n",
        "print(\"[INFO] loading images...\")\n",
        "imagePaths = paths.list_images(\"3scene\")\n",
        "data = []\n",
        "labels = []"
      ],
      "execution_count": 5,
      "outputs": [
        {
          "output_type": "stream",
          "text": [
            "[INFO] loading images...\n"
          ],
          "name": "stdout"
        }
      ]
    },
    {
      "cell_type": "code",
      "metadata": {
        "id": "8p7Wr6i8WqON"
      },
      "source": [
        "# loop over our input images\n",
        "for imagePath in imagePaths:\n",
        "\t# load the input image from disk, resize it to 64x64 pixels, scale\n",
        "\t# the pixel intensities to the range [0, 1], and then update our\n",
        "\t# images list\n",
        "\timage = Image.open(imagePath)\n",
        "\timage = np.array(image.resize((64, 64))) / 255.0\n",
        "\tdata.append(image)\n",
        "\n",
        "\t# extract the class label from the file path and update the\n",
        "\t# labels list\n",
        "\tlabel = imagePath.split(os.path.sep)[-2]\n",
        "\tlabels.append(label)"
      ],
      "execution_count": 6,
      "outputs": []
    },
    {
      "cell_type": "code",
      "metadata": {
        "colab": {
          "base_uri": "https://localhost:8080/"
        },
        "id": "fAhnVo_QY2NJ",
        "outputId": "cc93e6ae-38ec-4003-e4cb-71e301b097df"
      },
      "source": [
        "print(labels)"
      ],
      "execution_count": 7,
      "outputs": [
        {
          "output_type": "stream",
          "text": [
            "['coast', 'coast', 'coast', 'coast', 'coast', 'coast', 'coast', 'coast', 'coast', 'coast', 'coast', 'coast', 'coast', 'coast', 'coast', 'coast', 'coast', 'coast', 'coast', 'coast', 'coast', 'coast', 'coast', 'coast', 'coast', 'coast', 'coast', 'coast', 'coast', 'coast', 'coast', 'coast', 'coast', 'coast', 'coast', 'coast', 'coast', 'coast', 'coast', 'coast', 'coast', 'coast', 'coast', 'coast', 'coast', 'coast', 'coast', 'coast', 'coast', 'coast', 'coast', 'coast', 'coast', 'coast', 'coast', 'coast', 'coast', 'coast', 'coast', 'coast', 'coast', 'coast', 'coast', 'coast', 'coast', 'coast', 'coast', 'coast', 'coast', 'coast', 'coast', 'coast', 'coast', 'coast', 'coast', 'coast', 'coast', 'coast', 'coast', 'coast', 'coast', 'coast', 'coast', 'coast', 'coast', 'coast', 'coast', 'coast', 'coast', 'coast', 'coast', 'coast', 'coast', 'coast', 'coast', 'coast', 'coast', 'coast', 'coast', 'coast', 'coast', 'coast', 'coast', 'coast', 'coast', 'coast', 'coast', 'coast', 'coast', 'coast', 'coast', 'coast', 'coast', 'coast', 'coast', 'coast', 'coast', 'coast', 'coast', 'coast', 'coast', 'coast', 'coast', 'coast', 'coast', 'coast', 'coast', 'coast', 'coast', 'coast', 'coast', 'coast', 'coast', 'coast', 'coast', 'coast', 'coast', 'coast', 'coast', 'coast', 'coast', 'coast', 'coast', 'coast', 'coast', 'coast', 'coast', 'coast', 'coast', 'coast', 'coast', 'coast', 'coast', 'coast', 'coast', 'coast', 'coast', 'coast', 'coast', 'coast', 'coast', 'coast', 'coast', 'coast', 'coast', 'coast', 'coast', 'coast', 'coast', 'coast', 'coast', 'coast', 'coast', 'coast', 'coast', 'coast', 'coast', 'coast', 'coast', 'coast', 'coast', 'coast', 'coast', 'coast', 'coast', 'coast', 'coast', 'coast', 'coast', 'coast', 'coast', 'coast', 'coast', 'coast', 'coast', 'coast', 'coast', 'coast', 'coast', 'coast', 'coast', 'coast', 'coast', 'coast', 'coast', 'coast', 'coast', 'coast', 'coast', 'coast', 'coast', 'coast', 'coast', 'coast', 'coast', 'coast', 'coast', 'coast', 'coast', 'coast', 'coast', 'coast', 'coast', 'coast', 'coast', 'coast', 'coast', 'coast', 'coast', 'coast', 'coast', 'coast', 'coast', 'coast', 'coast', 'coast', 'coast', 'coast', 'coast', 'coast', 'coast', 'coast', 'coast', 'coast', 'coast', 'coast', 'coast', 'coast', 'coast', 'coast', 'coast', 'coast', 'coast', 'coast', 'coast', 'coast', 'coast', 'coast', 'coast', 'coast', 'coast', 'coast', 'coast', 'coast', 'coast', 'coast', 'coast', 'coast', 'coast', 'coast', 'coast', 'coast', 'coast', 'coast', 'coast', 'coast', 'coast', 'coast', 'coast', 'coast', 'coast', 'coast', 'coast', 'coast', 'coast', 'coast', 'coast', 'coast', 'coast', 'coast', 'coast', 'coast', 'coast', 'coast', 'coast', 'coast', 'coast', 'coast', 'coast', 'coast', 'coast', 'coast', 'coast', 'coast', 'coast', 'coast', 'coast', 'coast', 'coast', 'coast', 'coast', 'coast', 'coast', 'coast', 'coast', 'coast', 'coast', 'coast', 'coast', 'coast', 'coast', 'coast', 'coast', 'coast', 'coast', 'coast', 'coast', 'coast', 'coast', 'coast', 'coast', 'coast', 'coast', 'coast', 'coast', 'coast', 'coast', 'coast', 'coast', 'coast', 'coast', 'coast', 'coast', 'coast', 'coast', 'coast', 'coast', 'coast', 'coast', 'coast', 'coast', 'coast', 'coast', 'coast', 'coast', 'coast', 'coast', 'coast', 'coast', 'coast', 'highway', 'highway', 'highway', 'highway', 'highway', 'highway', 'highway', 'highway', 'highway', 'highway', 'highway', 'highway', 'highway', 'highway', 'highway', 'highway', 'highway', 'highway', 'highway', 'highway', 'highway', 'highway', 'highway', 'highway', 'highway', 'highway', 'highway', 'highway', 'highway', 'highway', 'highway', 'highway', 'highway', 'highway', 'highway', 'highway', 'highway', 'highway', 'highway', 'highway', 'highway', 'highway', 'highway', 'highway', 'highway', 'highway', 'highway', 'highway', 'highway', 'highway', 'highway', 'highway', 'highway', 'highway', 'highway', 'highway', 'highway', 'highway', 'highway', 'highway', 'highway', 'highway', 'highway', 'highway', 'highway', 'highway', 'highway', 'highway', 'highway', 'highway', 'highway', 'highway', 'highway', 'highway', 'highway', 'highway', 'highway', 'highway', 'highway', 'highway', 'highway', 'highway', 'highway', 'highway', 'highway', 'highway', 'highway', 'highway', 'highway', 'highway', 'highway', 'highway', 'highway', 'highway', 'highway', 'highway', 'highway', 'highway', 'highway', 'highway', 'highway', 'highway', 'highway', 'highway', 'highway', 'highway', 'highway', 'highway', 'highway', 'highway', 'highway', 'highway', 'highway', 'highway', 'highway', 'highway', 'highway', 'highway', 'highway', 'highway', 'highway', 'highway', 'highway', 'highway', 'highway', 'highway', 'highway', 'highway', 'highway', 'highway', 'highway', 'highway', 'highway', 'highway', 'highway', 'highway', 'highway', 'highway', 'highway', 'highway', 'highway', 'highway', 'highway', 'highway', 'highway', 'highway', 'highway', 'highway', 'highway', 'highway', 'highway', 'highway', 'highway', 'highway', 'highway', 'highway', 'highway', 'highway', 'highway', 'highway', 'highway', 'highway', 'highway', 'highway', 'highway', 'highway', 'highway', 'highway', 'highway', 'highway', 'highway', 'highway', 'highway', 'highway', 'highway', 'highway', 'highway', 'highway', 'highway', 'highway', 'highway', 'highway', 'highway', 'highway', 'highway', 'highway', 'highway', 'highway', 'highway', 'highway', 'highway', 'highway', 'highway', 'highway', 'highway', 'highway', 'highway', 'highway', 'highway', 'highway', 'highway', 'highway', 'highway', 'highway', 'highway', 'highway', 'highway', 'highway', 'highway', 'highway', 'highway', 'highway', 'highway', 'highway', 'highway', 'highway', 'highway', 'highway', 'highway', 'highway', 'highway', 'highway', 'highway', 'highway', 'highway', 'highway', 'highway', 'highway', 'highway', 'highway', 'highway', 'highway', 'highway', 'highway', 'highway', 'highway', 'highway', 'highway', 'highway', 'highway', 'highway', 'highway', 'highway', 'highway', 'highway', 'highway', 'highway', 'highway', 'highway', 'highway', 'highway', 'highway', 'highway', 'highway', 'highway', 'highway', 'highway', 'highway', 'highway', 'highway', 'forest', 'forest', 'forest', 'forest', 'forest', 'forest', 'forest', 'forest', 'forest', 'forest', 'forest', 'forest', 'forest', 'forest', 'forest', 'forest', 'forest', 'forest', 'forest', 'forest', 'forest', 'forest', 'forest', 'forest', 'forest', 'forest', 'forest', 'forest', 'forest', 'forest', 'forest', 'forest', 'forest', 'forest', 'forest', 'forest', 'forest', 'forest', 'forest', 'forest', 'forest', 'forest', 'forest', 'forest', 'forest', 'forest', 'forest', 'forest', 'forest', 'forest', 'forest', 'forest', 'forest', 'forest', 'forest', 'forest', 'forest', 'forest', 'forest', 'forest', 'forest', 'forest', 'forest', 'forest', 'forest', 'forest', 'forest', 'forest', 'forest', 'forest', 'forest', 'forest', 'forest', 'forest', 'forest', 'forest', 'forest', 'forest', 'forest', 'forest', 'forest', 'forest', 'forest', 'forest', 'forest', 'forest', 'forest', 'forest', 'forest', 'forest', 'forest', 'forest', 'forest', 'forest', 'forest', 'forest', 'forest', 'forest', 'forest', 'forest', 'forest', 'forest', 'forest', 'forest', 'forest', 'forest', 'forest', 'forest', 'forest', 'forest', 'forest', 'forest', 'forest', 'forest', 'forest', 'forest', 'forest', 'forest', 'forest', 'forest', 'forest', 'forest', 'forest', 'forest', 'forest', 'forest', 'forest', 'forest', 'forest', 'forest', 'forest', 'forest', 'forest', 'forest', 'forest', 'forest', 'forest', 'forest', 'forest', 'forest', 'forest', 'forest', 'forest', 'forest', 'forest', 'forest', 'forest', 'forest', 'forest', 'forest', 'forest', 'forest', 'forest', 'forest', 'forest', 'forest', 'forest', 'forest', 'forest', 'forest', 'forest', 'forest', 'forest', 'forest', 'forest', 'forest', 'forest', 'forest', 'forest', 'forest', 'forest', 'forest', 'forest', 'forest', 'forest', 'forest', 'forest', 'forest', 'forest', 'forest', 'forest', 'forest', 'forest', 'forest', 'forest', 'forest', 'forest', 'forest', 'forest', 'forest', 'forest', 'forest', 'forest', 'forest', 'forest', 'forest', 'forest', 'forest', 'forest', 'forest', 'forest', 'forest', 'forest', 'forest', 'forest', 'forest', 'forest', 'forest', 'forest', 'forest', 'forest', 'forest', 'forest', 'forest', 'forest', 'forest', 'forest', 'forest', 'forest', 'forest', 'forest', 'forest', 'forest', 'forest', 'forest', 'forest', 'forest', 'forest', 'forest', 'forest', 'forest', 'forest', 'forest', 'forest', 'forest', 'forest', 'forest', 'forest', 'forest', 'forest', 'forest', 'forest', 'forest', 'forest', 'forest', 'forest', 'forest', 'forest', 'forest', 'forest', 'forest', 'forest', 'forest', 'forest', 'forest', 'forest', 'forest', 'forest', 'forest', 'forest', 'forest', 'forest', 'forest', 'forest', 'forest', 'forest', 'forest', 'forest', 'forest', 'forest', 'forest', 'forest', 'forest', 'forest', 'forest', 'forest', 'forest', 'forest', 'forest', 'forest', 'forest', 'forest', 'forest', 'forest', 'forest', 'forest', 'forest', 'forest', 'forest', 'forest', 'forest', 'forest', 'forest', 'forest', 'forest', 'forest', 'forest', 'forest', 'forest', 'forest', 'forest', 'forest', 'forest', 'forest', 'forest', 'forest', 'forest', 'forest', 'forest', 'forest', 'forest', 'forest', 'forest', 'forest', 'forest', 'forest', 'forest', 'forest', 'forest', 'forest', 'forest', 'forest', 'forest', 'forest', 'forest', 'forest', 'forest', 'forest']\n"
          ],
          "name": "stdout"
        }
      ]
    },
    {
      "cell_type": "code",
      "metadata": {
        "id": "5iL9XyIuaZZF"
      },
      "source": [
        "# encode the labels, converting them from strings to integers\n",
        "lb = LabelBinarizer()\n",
        "labels = lb.fit_transform(labels)"
      ],
      "execution_count": 8,
      "outputs": []
    },
    {
      "cell_type": "code",
      "metadata": {
        "colab": {
          "base_uri": "https://localhost:8080/"
        },
        "id": "wbIYw8X8adE4",
        "outputId": "9ea276c9-2651-4cee-e0bc-7caf9ad8cd41"
      },
      "source": [
        "print(labels)"
      ],
      "execution_count": 9,
      "outputs": [
        {
          "output_type": "stream",
          "text": [
            "[[1 0 0]\n",
            " [1 0 0]\n",
            " [1 0 0]\n",
            " ...\n",
            " [0 1 0]\n",
            " [0 1 0]\n",
            " [0 1 0]]\n"
          ],
          "name": "stdout"
        }
      ]
    },
    {
      "cell_type": "code",
      "metadata": {
        "colab": {
          "base_uri": "https://localhost:8080/"
        },
        "id": "OEjALX_Cal3S",
        "outputId": "cfb7b594-df0d-400c-87e4-d2864caedc94"
      },
      "source": [
        "# perform a training and testing split, using 75% of the data for\n",
        "# training and 25% for evaluation\n",
        "(trainX, testX, trainY, testY) = train_test_split(np.array(data),\tnp.array(labels), test_size=0.25)\n",
        "print(trainX.shape)\n",
        "print(testX.shape)"
      ],
      "execution_count": 30,
      "outputs": [
        {
          "output_type": "stream",
          "text": [
            "(711, 64, 64, 3)\n",
            "(237, 64, 64, 3)\n"
          ],
          "name": "stdout"
        }
      ]
    },
    {
      "cell_type": "code",
      "metadata": {
        "id": "tu564kqGbDZ2"
      },
      "source": [
        "from keras.models import Sequential\n",
        "from keras.layers.core import Flatten\n",
        "from keras.layers.core import Dense\n",
        "\n",
        "model = Sequential(\n",
        "    [\n",
        "        Flatten(input_shape=(64*64*3,)),\n",
        "        Dense(100, activation=\"relu\", name=\"layer1\"),\n",
        "        Dense(32, activation=\"relu\", name=\"layer2\"),\n",
        "        Dense(16, activation=\"relu\", name=\"layer3\"),\n",
        "        Dense(3, activation = \"softmax\", name=\"layer4\"),\n",
        "    ]\n",
        ")"
      ],
      "execution_count": 43,
      "outputs": []
    },
    {
      "cell_type": "code",
      "metadata": {
        "colab": {
          "base_uri": "https://localhost:8080/"
        },
        "id": "wF1uzjh4bQY4",
        "outputId": "e49932c1-992a-4434-f6c7-63551550694c"
      },
      "source": [
        "model.summary()"
      ],
      "execution_count": 44,
      "outputs": [
        {
          "output_type": "stream",
          "text": [
            "Model: \"sequential_7\"\n",
            "_________________________________________________________________\n",
            "Layer (type)                 Output Shape              Param #   \n",
            "=================================================================\n",
            "flatten_7 (Flatten)          (None, 12288)             0         \n",
            "_________________________________________________________________\n",
            "layer1 (Dense)               (None, 100)               1228900   \n",
            "_________________________________________________________________\n",
            "layer2 (Dense)               (None, 32)                3232      \n",
            "_________________________________________________________________\n",
            "layer3 (Dense)               (None, 16)                528       \n",
            "_________________________________________________________________\n",
            "layer4 (Dense)               (None, 3)                 51        \n",
            "=================================================================\n",
            "Total params: 1,232,711\n",
            "Trainable params: 1,232,711\n",
            "Non-trainable params: 0\n",
            "_________________________________________________________________\n"
          ],
          "name": "stdout"
        }
      ]
    },
    {
      "cell_type": "code",
      "metadata": {
        "colab": {
          "base_uri": "https://localhost:8080/"
        },
        "id": "3ZrbcOQqbfJN",
        "outputId": "f43ed8d6-6def-4d7f-dbd2-75264e720c06"
      },
      "source": [
        "# train the model using the Adam optimizer\n",
        "print(\"[INFO] training network...\")\n",
        "opt = Adam(lr=1e-3, decay=1e-3 / 50)\n",
        "model.compile(loss=\"categorical_crossentropy\", optimizer=opt,\n",
        "\tmetrics=[\"accuracy\"])\n",
        "H = model.fit(trainX, trainY, validation_data=(testX, testY), epochs=50, batch_size=32)"
      ],
      "execution_count": 45,
      "outputs": [
        {
          "output_type": "stream",
          "text": [
            "[INFO] training network...\n",
            "Epoch 1/50\n",
            "WARNING:tensorflow:Model was constructed with shape (None, 12288) for input KerasTensor(type_spec=TensorSpec(shape=(None, 12288), dtype=tf.float32, name='flatten_7_input'), name='flatten_7_input', description=\"created by layer 'flatten_7_input'\"), but it was called on an input with incompatible shape (None, 64, 64, 3).\n",
            "WARNING:tensorflow:Model was constructed with shape (None, 12288) for input KerasTensor(type_spec=TensorSpec(shape=(None, 12288), dtype=tf.float32, name='flatten_7_input'), name='flatten_7_input', description=\"created by layer 'flatten_7_input'\"), but it was called on an input with incompatible shape (None, 64, 64, 3).\n",
            "19/23 [=======================>......] - ETA: 0s - loss: 1.8284 - accuracy: 0.3357WARNING:tensorflow:Model was constructed with shape (None, 12288) for input KerasTensor(type_spec=TensorSpec(shape=(None, 12288), dtype=tf.float32, name='flatten_7_input'), name='flatten_7_input', description=\"created by layer 'flatten_7_input'\"), but it was called on an input with incompatible shape (None, 64, 64, 3).\n",
            "23/23 [==============================] - 1s 24ms/step - loss: 1.7639 - accuracy: 0.3524 - val_loss: 1.2114 - val_accuracy: 0.3291\n",
            "Epoch 2/50\n",
            "23/23 [==============================] - 0s 15ms/step - loss: 1.1487 - accuracy: 0.4242 - val_loss: 0.9759 - val_accuracy: 0.5907\n",
            "Epoch 3/50\n",
            "23/23 [==============================] - 0s 16ms/step - loss: 0.9562 - accuracy: 0.5584 - val_loss: 0.8184 - val_accuracy: 0.6793\n",
            "Epoch 4/50\n",
            "23/23 [==============================] - 0s 16ms/step - loss: 0.7968 - accuracy: 0.7042 - val_loss: 0.8770 - val_accuracy: 0.6118\n",
            "Epoch 5/50\n",
            "23/23 [==============================] - 0s 15ms/step - loss: 0.7481 - accuracy: 0.6971 - val_loss: 0.7482 - val_accuracy: 0.7089\n",
            "Epoch 6/50\n",
            "23/23 [==============================] - 0s 16ms/step - loss: 0.6763 - accuracy: 0.7379 - val_loss: 0.7798 - val_accuracy: 0.6667\n",
            "Epoch 7/50\n",
            "23/23 [==============================] - 0s 15ms/step - loss: 0.7055 - accuracy: 0.6864 - val_loss: 0.6744 - val_accuracy: 0.7300\n",
            "Epoch 8/50\n",
            "23/23 [==============================] - 0s 16ms/step - loss: 0.6337 - accuracy: 0.7233 - val_loss: 0.6914 - val_accuracy: 0.7215\n",
            "Epoch 9/50\n",
            "23/23 [==============================] - 0s 14ms/step - loss: 0.6144 - accuracy: 0.7523 - val_loss: 0.6981 - val_accuracy: 0.7426\n",
            "Epoch 10/50\n",
            "23/23 [==============================] - 0s 16ms/step - loss: 0.5395 - accuracy: 0.7926 - val_loss: 0.7052 - val_accuracy: 0.7511\n",
            "Epoch 11/50\n",
            "23/23 [==============================] - 0s 16ms/step - loss: 0.5201 - accuracy: 0.7973 - val_loss: 0.7011 - val_accuracy: 0.7004\n",
            "Epoch 12/50\n",
            "23/23 [==============================] - 0s 15ms/step - loss: 0.5571 - accuracy: 0.7657 - val_loss: 0.6912 - val_accuracy: 0.7511\n",
            "Epoch 13/50\n",
            "23/23 [==============================] - 0s 15ms/step - loss: 0.5201 - accuracy: 0.7939 - val_loss: 0.6678 - val_accuracy: 0.7553\n",
            "Epoch 14/50\n",
            "23/23 [==============================] - 0s 15ms/step - loss: 0.4660 - accuracy: 0.8313 - val_loss: 0.7219 - val_accuracy: 0.7046\n",
            "Epoch 15/50\n",
            "23/23 [==============================] - 0s 15ms/step - loss: 0.4872 - accuracy: 0.7996 - val_loss: 0.6906 - val_accuracy: 0.7342\n",
            "Epoch 16/50\n",
            "23/23 [==============================] - 0s 15ms/step - loss: 0.4349 - accuracy: 0.8224 - val_loss: 1.0557 - val_accuracy: 0.5823\n",
            "Epoch 17/50\n",
            "23/23 [==============================] - 0s 16ms/step - loss: 0.4622 - accuracy: 0.8244 - val_loss: 0.6269 - val_accuracy: 0.7932\n",
            "Epoch 18/50\n",
            "23/23 [==============================] - 0s 15ms/step - loss: 0.3836 - accuracy: 0.8526 - val_loss: 0.6152 - val_accuracy: 0.8017\n",
            "Epoch 19/50\n",
            "23/23 [==============================] - 0s 15ms/step - loss: 0.3693 - accuracy: 0.8659 - val_loss: 0.8179 - val_accuracy: 0.6878\n",
            "Epoch 20/50\n",
            "23/23 [==============================] - 0s 15ms/step - loss: 0.4499 - accuracy: 0.8313 - val_loss: 0.7684 - val_accuracy: 0.7131\n",
            "Epoch 21/50\n",
            "23/23 [==============================] - 0s 15ms/step - loss: 0.4027 - accuracy: 0.8327 - val_loss: 0.7337 - val_accuracy: 0.7595\n",
            "Epoch 22/50\n",
            "23/23 [==============================] - 0s 17ms/step - loss: 0.3805 - accuracy: 0.8705 - val_loss: 0.8846 - val_accuracy: 0.6498\n",
            "Epoch 23/50\n",
            "23/23 [==============================] - 0s 15ms/step - loss: 0.3714 - accuracy: 0.8457 - val_loss: 0.6338 - val_accuracy: 0.7764\n",
            "Epoch 24/50\n",
            "23/23 [==============================] - 0s 15ms/step - loss: 0.3636 - accuracy: 0.8597 - val_loss: 0.7093 - val_accuracy: 0.7426\n",
            "Epoch 25/50\n",
            "23/23 [==============================] - 0s 15ms/step - loss: 0.4001 - accuracy: 0.8521 - val_loss: 0.6731 - val_accuracy: 0.7637\n",
            "Epoch 26/50\n",
            "23/23 [==============================] - 0s 16ms/step - loss: 0.2967 - accuracy: 0.8856 - val_loss: 0.6441 - val_accuracy: 0.7679\n",
            "Epoch 27/50\n",
            "23/23 [==============================] - 0s 15ms/step - loss: 0.3415 - accuracy: 0.8725 - val_loss: 0.6347 - val_accuracy: 0.7848\n",
            "Epoch 28/50\n",
            "23/23 [==============================] - 0s 14ms/step - loss: 0.3371 - accuracy: 0.8702 - val_loss: 0.7041 - val_accuracy: 0.7553\n",
            "Epoch 29/50\n",
            "23/23 [==============================] - 0s 16ms/step - loss: 0.3046 - accuracy: 0.8662 - val_loss: 0.6356 - val_accuracy: 0.7848\n",
            "Epoch 30/50\n",
            "23/23 [==============================] - 0s 16ms/step - loss: 0.2519 - accuracy: 0.9147 - val_loss: 0.6178 - val_accuracy: 0.8017\n",
            "Epoch 31/50\n",
            "23/23 [==============================] - 0s 15ms/step - loss: 0.2576 - accuracy: 0.9159 - val_loss: 0.6332 - val_accuracy: 0.8143\n",
            "Epoch 32/50\n",
            "23/23 [==============================] - 0s 15ms/step - loss: 0.2518 - accuracy: 0.9047 - val_loss: 0.6412 - val_accuracy: 0.8059\n",
            "Epoch 33/50\n",
            "23/23 [==============================] - 0s 15ms/step - loss: 0.2534 - accuracy: 0.9121 - val_loss: 0.6346 - val_accuracy: 0.7975\n",
            "Epoch 34/50\n",
            "23/23 [==============================] - 0s 15ms/step - loss: 0.2017 - accuracy: 0.9344 - val_loss: 0.8602 - val_accuracy: 0.6751\n",
            "Epoch 35/50\n",
            "23/23 [==============================] - 0s 15ms/step - loss: 0.2864 - accuracy: 0.8806 - val_loss: 1.2767 - val_accuracy: 0.6160\n",
            "Epoch 36/50\n",
            "23/23 [==============================] - 0s 15ms/step - loss: 0.5706 - accuracy: 0.7572 - val_loss: 0.6843 - val_accuracy: 0.7764\n",
            "Epoch 37/50\n",
            "23/23 [==============================] - 0s 17ms/step - loss: 0.2901 - accuracy: 0.8828 - val_loss: 0.6523 - val_accuracy: 0.7637\n",
            "Epoch 38/50\n",
            "23/23 [==============================] - 0s 15ms/step - loss: 0.2980 - accuracy: 0.8728 - val_loss: 0.7347 - val_accuracy: 0.7553\n",
            "Epoch 39/50\n",
            "23/23 [==============================] - 0s 15ms/step - loss: 0.3358 - accuracy: 0.8565 - val_loss: 0.6907 - val_accuracy: 0.7764\n",
            "Epoch 40/50\n",
            "23/23 [==============================] - 0s 15ms/step - loss: 0.2897 - accuracy: 0.8929 - val_loss: 0.6168 - val_accuracy: 0.7932\n",
            "Epoch 41/50\n",
            "23/23 [==============================] - 0s 15ms/step - loss: 0.1969 - accuracy: 0.9481 - val_loss: 0.8431 - val_accuracy: 0.7637\n",
            "Epoch 42/50\n",
            "23/23 [==============================] - 0s 15ms/step - loss: 0.2137 - accuracy: 0.9287 - val_loss: 0.6889 - val_accuracy: 0.8017\n",
            "Epoch 43/50\n",
            "23/23 [==============================] - 0s 15ms/step - loss: 0.1792 - accuracy: 0.9352 - val_loss: 0.7251 - val_accuracy: 0.7300\n",
            "Epoch 44/50\n",
            "23/23 [==============================] - 0s 15ms/step - loss: 0.2212 - accuracy: 0.9236 - val_loss: 0.6270 - val_accuracy: 0.8101\n",
            "Epoch 45/50\n",
            "23/23 [==============================] - 0s 16ms/step - loss: 0.2160 - accuracy: 0.9283 - val_loss: 0.8186 - val_accuracy: 0.7764\n",
            "Epoch 46/50\n",
            "23/23 [==============================] - 0s 15ms/step - loss: 0.2491 - accuracy: 0.9189 - val_loss: 0.6740 - val_accuracy: 0.7890\n",
            "Epoch 47/50\n",
            "23/23 [==============================] - 0s 15ms/step - loss: 0.2938 - accuracy: 0.8804 - val_loss: 0.7532 - val_accuracy: 0.7722\n",
            "Epoch 48/50\n",
            "23/23 [==============================] - 0s 14ms/step - loss: 0.1486 - accuracy: 0.9560 - val_loss: 0.6509 - val_accuracy: 0.8186\n",
            "Epoch 49/50\n",
            "23/23 [==============================] - 0s 15ms/step - loss: 0.1365 - accuracy: 0.9569 - val_loss: 0.6491 - val_accuracy: 0.8186\n",
            "Epoch 50/50\n",
            "23/23 [==============================] - 0s 16ms/step - loss: 0.1535 - accuracy: 0.9576 - val_loss: 1.0156 - val_accuracy: 0.6709\n"
          ],
          "name": "stdout"
        }
      ]
    },
    {
      "cell_type": "code",
      "metadata": {
        "colab": {
          "base_uri": "https://localhost:8080/",
          "height": 591
        },
        "id": "Crs4J92hb7Dv",
        "outputId": "4132c1d4-cb22-40fd-ca3d-17719b065585"
      },
      "source": [
        "import matplotlib.pyplot as plt\n",
        "\n",
        "print(H.history.keys())\n",
        "# summarize history for accuracy\n",
        "plt.plot(H.history['accuracy'])\n",
        "plt.plot(H.history['val_accuracy'])\n",
        "plt.title('model accuracy')\n",
        "plt.ylabel('accuracy')\n",
        "plt.xlabel('epoch')\n",
        "plt.legend(['train', 'test'], loc='upper left')\n",
        "plt.show()\n",
        "# summarize history for loss\n",
        "plt.plot(H.history['loss'])\n",
        "plt.plot(H.history['val_loss'])\n",
        "plt.title('model loss')\n",
        "plt.ylabel('loss')\n",
        "plt.xlabel('epoch')\n",
        "plt.legend(['train', 'test'], loc='upper left')\n",
        "plt.show()"
      ],
      "execution_count": 48,
      "outputs": [
        {
          "output_type": "stream",
          "text": [
            "dict_keys(['loss', 'accuracy', 'val_loss', 'val_accuracy'])\n"
          ],
          "name": "stdout"
        },
        {
          "output_type": "display_data",
          "data": {
            "image/png": "[encoded data removed]",
            "text/plain": [
              "<Figure size 432x288 with 1 Axes>"
            ]
          },
          "metadata": {
            "tags": [],
            "needs_background": "light"
          }
        },
        {
          "output_type": "display_data",
          "data": {
            "image/png": "[encoded data removed]",
            "text/plain": [
              "<Figure size 432x288 with 1 Axes>"
            ]
          },
          "metadata": {
            "tags": [],
            "needs_background": "light"
          }
        }
      ]
    }
  ]
}